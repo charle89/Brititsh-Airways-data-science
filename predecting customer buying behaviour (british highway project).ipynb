{
 "cells": [
  {
   "cell_type": "code",
   "execution_count": 3,
   "id": "6f14a2f4",
   "metadata": {},
   "outputs": [],
   "source": [
    "# Importing necessary libraries\n",
    "import pandas as pd\n",
    "import numpy as np\n",
    "from sklearn.model_selection import train_test_split, cross_val_score\n",
    "from sklearn.ensemble import RandomForestClassifier\n",
    "from sklearn.metrics import accuracy_score, precision_score, recall_score, f1_score, confusion_matrix, classification_report\n",
    "import matplotlib.pyplot as plt\n",
    "import seaborn as sns\n",
    "from sklearn.preprocessing import OneHotEncoder, OrdinalEncoder\n",
    "from sklearn.feature_selection import RFE\n",
    "from sklearn.svm import SVC\n",
    "from sklearn.decomposition import PCA\n",
    "from sklearn.utils import resample"
   ]
  },
  {
   "cell_type": "code",
   "execution_count": 4,
   "id": "b16e034f",
   "metadata": {},
   "outputs": [
    {
     "data": {
      "text/html": [
       "<div>\n",
       "<style scoped>\n",
       "    .dataframe tbody tr th:only-of-type {\n",
       "        vertical-align: middle;\n",
       "    }\n",
       "\n",
       "    .dataframe tbody tr th {\n",
       "        vertical-align: top;\n",
       "    }\n",
       "\n",
       "    .dataframe thead th {\n",
       "        text-align: right;\n",
       "    }\n",
       "</style>\n",
       "<table border=\"1\" class=\"dataframe\">\n",
       "  <thead>\n",
       "    <tr style=\"text-align: right;\">\n",
       "      <th></th>\n",
       "      <th>num_passengers</th>\n",
       "      <th>sales_channel</th>\n",
       "      <th>trip_type</th>\n",
       "      <th>purchase_lead</th>\n",
       "      <th>length_of_stay</th>\n",
       "      <th>flight_hour</th>\n",
       "      <th>flight_day</th>\n",
       "      <th>route</th>\n",
       "      <th>booking_origin</th>\n",
       "      <th>wants_extra_baggage</th>\n",
       "      <th>wants_preferred_seat</th>\n",
       "      <th>wants_in_flight_meals</th>\n",
       "      <th>flight_duration</th>\n",
       "      <th>booking_complete</th>\n",
       "    </tr>\n",
       "  </thead>\n",
       "  <tbody>\n",
       "    <tr>\n",
       "      <th>0</th>\n",
       "      <td>2</td>\n",
       "      <td>Internet</td>\n",
       "      <td>RoundTrip</td>\n",
       "      <td>262</td>\n",
       "      <td>19</td>\n",
       "      <td>7</td>\n",
       "      <td>Sat</td>\n",
       "      <td>AKLDEL</td>\n",
       "      <td>New Zealand</td>\n",
       "      <td>1</td>\n",
       "      <td>0</td>\n",
       "      <td>0</td>\n",
       "      <td>5.52</td>\n",
       "      <td>0</td>\n",
       "    </tr>\n",
       "    <tr>\n",
       "      <th>1</th>\n",
       "      <td>1</td>\n",
       "      <td>Internet</td>\n",
       "      <td>RoundTrip</td>\n",
       "      <td>112</td>\n",
       "      <td>20</td>\n",
       "      <td>3</td>\n",
       "      <td>Sat</td>\n",
       "      <td>AKLDEL</td>\n",
       "      <td>New Zealand</td>\n",
       "      <td>0</td>\n",
       "      <td>0</td>\n",
       "      <td>0</td>\n",
       "      <td>5.52</td>\n",
       "      <td>0</td>\n",
       "    </tr>\n",
       "    <tr>\n",
       "      <th>2</th>\n",
       "      <td>2</td>\n",
       "      <td>Internet</td>\n",
       "      <td>RoundTrip</td>\n",
       "      <td>243</td>\n",
       "      <td>22</td>\n",
       "      <td>17</td>\n",
       "      <td>Wed</td>\n",
       "      <td>AKLDEL</td>\n",
       "      <td>India</td>\n",
       "      <td>1</td>\n",
       "      <td>1</td>\n",
       "      <td>0</td>\n",
       "      <td>5.52</td>\n",
       "      <td>0</td>\n",
       "    </tr>\n",
       "    <tr>\n",
       "      <th>3</th>\n",
       "      <td>1</td>\n",
       "      <td>Internet</td>\n",
       "      <td>RoundTrip</td>\n",
       "      <td>96</td>\n",
       "      <td>31</td>\n",
       "      <td>4</td>\n",
       "      <td>Sat</td>\n",
       "      <td>AKLDEL</td>\n",
       "      <td>New Zealand</td>\n",
       "      <td>0</td>\n",
       "      <td>0</td>\n",
       "      <td>1</td>\n",
       "      <td>5.52</td>\n",
       "      <td>0</td>\n",
       "    </tr>\n",
       "    <tr>\n",
       "      <th>4</th>\n",
       "      <td>2</td>\n",
       "      <td>Internet</td>\n",
       "      <td>RoundTrip</td>\n",
       "      <td>68</td>\n",
       "      <td>22</td>\n",
       "      <td>15</td>\n",
       "      <td>Wed</td>\n",
       "      <td>AKLDEL</td>\n",
       "      <td>India</td>\n",
       "      <td>1</td>\n",
       "      <td>0</td>\n",
       "      <td>1</td>\n",
       "      <td>5.52</td>\n",
       "      <td>0</td>\n",
       "    </tr>\n",
       "  </tbody>\n",
       "</table>\n",
       "</div>"
      ],
      "text/plain": [
       "   num_passengers sales_channel  trip_type  purchase_lead  length_of_stay  \\\n",
       "0               2      Internet  RoundTrip            262              19   \n",
       "1               1      Internet  RoundTrip            112              20   \n",
       "2               2      Internet  RoundTrip            243              22   \n",
       "3               1      Internet  RoundTrip             96              31   \n",
       "4               2      Internet  RoundTrip             68              22   \n",
       "\n",
       "   flight_hour flight_day   route booking_origin  wants_extra_baggage  \\\n",
       "0            7        Sat  AKLDEL    New Zealand                    1   \n",
       "1            3        Sat  AKLDEL    New Zealand                    0   \n",
       "2           17        Wed  AKLDEL          India                    1   \n",
       "3            4        Sat  AKLDEL    New Zealand                    0   \n",
       "4           15        Wed  AKLDEL          India                    1   \n",
       "\n",
       "   wants_preferred_seat  wants_in_flight_meals  flight_duration  \\\n",
       "0                     0                      0             5.52   \n",
       "1                     0                      0             5.52   \n",
       "2                     1                      0             5.52   \n",
       "3                     0                      1             5.52   \n",
       "4                     0                      1             5.52   \n",
       "\n",
       "   booking_complete  \n",
       "0                 0  \n",
       "1                 0  \n",
       "2                 0  \n",
       "3                 0  \n",
       "4                 0  "
      ]
     },
     "execution_count": 4,
     "metadata": {},
     "output_type": "execute_result"
    }
   ],
   "source": [
    "df = pd.read_csv( \"customer_booking.csv\", encoding='ISO-8859-1')\n",
    "df.head()"
   ]
  },
  {
   "cell_type": "code",
   "execution_count": 5,
   "id": "0dca1922",
   "metadata": {},
   "outputs": [
    {
     "data": {
      "text/plain": [
       "(50000, 14)"
      ]
     },
     "execution_count": 5,
     "metadata": {},
     "output_type": "execute_result"
    }
   ],
   "source": [
    "df.shape"
   ]
  },
  {
   "cell_type": "code",
   "execution_count": null,
   "id": "5acb6297",
   "metadata": {},
   "outputs": [],
   "source": []
  },
  {
   "cell_type": "code",
   "execution_count": 6,
   "id": "d5cce871",
   "metadata": {},
   "outputs": [],
   "source": [
    "# Splitting the dataset into training and testing sets\n",
    "train_set, test_set = train_test_split(df, test_size=0.2, random_state=42)"
   ]
  },
  {
   "cell_type": "code",
   "execution_count": 7,
   "id": "55c0f3f7",
   "metadata": {},
   "outputs": [],
   "source": [
    "nomial_variables=train_set.select_dtypes(object)\n",
    "ordinal_variables = [nomial_variables.pop(\"flight_day\").name]\n",
    "nomial_variables = nomial_variables.columns"
   ]
  },
  {
   "cell_type": "code",
   "execution_count": 8,
   "id": "01bcfecc",
   "metadata": {},
   "outputs": [],
   "source": [
    "day_order= [\"Sun\", \"Mon\", \"Tue\", \"Wed\", \"Thu\", \"Fri\", \"Sat\"]"
   ]
  },
  {
   "cell_type": "code",
   "execution_count": 9,
   "id": "402251e2",
   "metadata": {},
   "outputs": [],
   "source": [
    "ordinal_encoder = OrdinalEncoder(categories=[day_order])\n",
    "train_set[ordinal_variables]= ordinal_encoder.fit_transform(train_set[ordinal_variables])\n",
    "test_set[ordinal_variables]= ordinal_encoder.transform(test_set[ordinal_variables])"
   ]
  },
  {
   "cell_type": "code",
   "execution_count": null,
   "id": "a237fd6f",
   "metadata": {},
   "outputs": [],
   "source": []
  },
  {
   "cell_type": "code",
   "execution_count": 10,
   "id": "7582aaf0",
   "metadata": {},
   "outputs": [
    {
     "name": "stderr",
     "output_type": "stream",
     "text": [
      "C:\\Users\\Admin\\anaconda3\\lib\\site-packages\\sklearn\\preprocessing\\_encoders.py:170: UserWarning: Found unknown categories in columns [2, 3] during transform. These unknown categories will be encoded as all zeros\n",
      "  warnings.warn(\n"
     ]
    }
   ],
   "source": [
    "nominal_encoder = OneHotEncoder(handle_unknown=\"ignore\", drop=\"first\", sparse=False)\n",
    "encoded_train = nominal_encoder.fit_transform(train_set[nomial_variables])\n",
    "encoded_test = nominal_encoder.transform(test_set[nomial_variables])"
   ]
  },
  {
   "cell_type": "code",
   "execution_count": 11,
   "id": "5722fd33",
   "metadata": {},
   "outputs": [],
   "source": [
    "train_df_encoded=pd.DataFrame(encoded_train, columns= nominal_encoder.get_feature_names_out(nomial_variables))\n",
    "test_df_encoded=pd.DataFrame(encoded_test, columns= nominal_encoder.get_feature_names_out(nomial_variables))"
   ]
  },
  {
   "cell_type": "code",
   "execution_count": 12,
   "id": "cb9406f4",
   "metadata": {},
   "outputs": [],
   "source": [
    "train_df=train_set.drop(columns=nomial_variables).reset_index(drop=True)\n",
    "test_df=test_set.drop(columns=nomial_variables).reset_index(drop=True)"
   ]
  },
  {
   "cell_type": "code",
   "execution_count": 13,
   "id": "d166825e",
   "metadata": {},
   "outputs": [],
   "source": [
    "train_df = pd.concat([train_df, train_df_encoded ], axis=1)\n",
    "test_df = pd.concat([test_df, test_df_encoded ], axis=1)"
   ]
  },
  {
   "cell_type": "code",
   "execution_count": 14,
   "id": "9650f5b3",
   "metadata": {},
   "outputs": [
    {
     "data": {
      "text/plain": [
       "(40000, 886)"
      ]
     },
     "execution_count": 14,
     "metadata": {},
     "output_type": "execute_result"
    }
   ],
   "source": [
    "train_df.shape"
   ]
  },
  {
   "cell_type": "code",
   "execution_count": 15,
   "id": "82f7926f",
   "metadata": {},
   "outputs": [
    {
     "data": {
      "text/plain": [
       "(10000, 886)"
      ]
     },
     "execution_count": 15,
     "metadata": {},
     "output_type": "execute_result"
    }
   ],
   "source": [
    "test_df.shape"
   ]
  },
  {
   "cell_type": "code",
   "execution_count": null,
   "id": "b3193e1f",
   "metadata": {},
   "outputs": [],
   "source": []
  },
  {
   "cell_type": "markdown",
   "id": "89a0befd",
   "metadata": {},
   "source": [
    "# Baseline Model"
   ]
  },
  {
   "cell_type": "code",
   "execution_count": 16,
   "id": "7791a3e7",
   "metadata": {},
   "outputs": [],
   "source": [
    "X = train_df.copy()\n",
    "y = X.pop(\"booking_complete\")"
   ]
  },
  {
   "cell_type": "code",
   "execution_count": 17,
   "id": "f32926d4",
   "metadata": {},
   "outputs": [],
   "source": [
    "X_test = test_df.copy()\n",
    "y_test = X_test.pop(\"booking_complete\")"
   ]
  },
  {
   "cell_type": "code",
   "execution_count": 18,
   "id": "44917009",
   "metadata": {},
   "outputs": [
    {
     "name": "stdout",
     "output_type": "stream",
     "text": [
      "              precision    recall  f1-score   support\n",
      "\n",
      "           0       0.87      0.98      0.92      8520\n",
      "           1       0.52      0.13      0.20      1480\n",
      "\n",
      "    accuracy                           0.85     10000\n",
      "   macro avg       0.69      0.55      0.56     10000\n",
      "weighted avg       0.81      0.85      0.81     10000\n",
      "\n"
     ]
    }
   ],
   "source": [
    "# Model Training - Random Forest\n",
    "rf_model = RandomForestClassifier(random_state=42, class_weight=\"balanced\")\n",
    "rf_model.fit(X, y)\n",
    "\n",
    "# Model Predictions\n",
    "y_pred = rf_model.predict(X_test)\n",
    "\n",
    "# # Evaluation Metrics\n",
    "print(classification_report(y_test, y_pred))"
   ]
  },
  {
   "cell_type": "code",
   "execution_count": null,
   "id": "38a7480b",
   "metadata": {},
   "outputs": [],
   "source": []
  },
  {
   "cell_type": "code",
   "execution_count": null,
   "id": "91a948d5",
   "metadata": {},
   "outputs": [],
   "source": []
  },
  {
   "cell_type": "code",
   "execution_count": null,
   "id": "5006c103",
   "metadata": {},
   "outputs": [],
   "source": []
  },
  {
   "cell_type": "markdown",
   "id": "3b850705",
   "metadata": {},
   "source": [
    "# Modeling with oversample dataset"
   ]
  },
  {
   "cell_type": "code",
   "execution_count": null,
   "id": "c3909059",
   "metadata": {},
   "outputs": [],
   "source": []
  },
  {
   "cell_type": "code",
   "execution_count": 19,
   "id": "c190bd39",
   "metadata": {},
   "outputs": [],
   "source": [
    "# Select all rows where 'booking_complete' is 0, representing the majority class\n",
    "majority_df = df[df[\"booking_complete\"] == 0]\n",
    "\n",
    "# Select all rows where 'booking_complete' is 1, representing the minority class\n",
    "mijority_df = df[df[\"booking_complete\"] == 1]  # Note: 'mijority_df' is a typo, should be 'minority_df'\n",
    "\n",
    "# Resample the minority class to match the number of samples in the majority class\n",
    "# This is done to balance the dataset by oversampling the minority class\n",
    "resample_df = resample(mijority_df, n_samples=len(majority_df), random_state=42)\n",
    "\n",
    "# Concatenate the resampled minority class with the majority class to create a balanced dataset\n",
    "new_df = pd.concat([resample_df, majority_df], axis=0, ignore_index=True)\n"
   ]
  },
  {
   "cell_type": "code",
   "execution_count": 20,
   "id": "ec644baf",
   "metadata": {},
   "outputs": [],
   "source": [
    "# Splitting the dataset into training and testing sets\n",
    "train_set, test_set = train_test_split(new_df, test_size=0.2, random_state=42)\n"
   ]
  },
  {
   "cell_type": "code",
   "execution_count": 21,
   "id": "1f92ae7e",
   "metadata": {},
   "outputs": [],
   "source": [
    "# Select all nominal (categorical) variables from the train set\n",
    "nomial_variables = train_set.select_dtypes(object)\n",
    "\n",
    "# Pop (remove) the 'flight_day' column from nominal variables, \n",
    "# as it is considered an ordinal variable, and store its name in 'ordinal_variables'\n",
    "ordinal_variables = [nomial_variables.pop(\"flight_day\").name]\n"
   ]
  },
  {
   "cell_type": "code",
   "execution_count": 22,
   "id": "b0e723ee",
   "metadata": {},
   "outputs": [],
   "source": [
    "# Store the remaining nominal variable names for later use\n",
    "nomial_variables = nomial_variables.columns\n",
    "\n",
    "# Define the order for ordinal encoding of the days of the week\n",
    "day_order = [\"Sun\", \"Mon\", \"Tue\", \"Wed\", \"Thu\", \"Fri\", \"Sat\"]\n",
    "\n",
    "# Initialize OrdinalEncoder with the specified day order for the 'flight_day' column\n",
    "ordinal_encoder = OrdinalEncoder(categories=[day_order])\n"
   ]
  },
  {
   "cell_type": "code",
   "execution_count": 23,
   "id": "991af588",
   "metadata": {},
   "outputs": [],
   "source": [
    "# Apply ordinal encoding on 'flight_day' in the train set\n",
    "train_set[ordinal_variables] = ordinal_encoder.fit_transform(train_set[ordinal_variables])\n",
    "\n",
    "# Apply the same transformation on the test set\n",
    "test_set[ordinal_variables] = ordinal_encoder.transform(test_set[ordinal_variables])\n",
    "\n",
    "# Initialize OneHotEncoder to encode nominal variables, ignoring unknown categories in test data\n",
    "# 'drop=\"first\"' avoids dummy variable trap, 'sparse=False' returns dense array\n",
    "nominal_encoder = OneHotEncoder(handle_unknown=\"ignore\", drop=\"first\", sparse=False)\n"
   ]
  },
  {
   "cell_type": "code",
   "execution_count": 24,
   "id": "b6a568eb",
   "metadata": {},
   "outputs": [
    {
     "name": "stderr",
     "output_type": "stream",
     "text": [
      "C:\\Users\\Admin\\anaconda3\\lib\\site-packages\\sklearn\\preprocessing\\_encoders.py:170: UserWarning: Found unknown categories in columns [2, 3] during transform. These unknown categories will be encoded as all zeros\n",
      "  warnings.warn(\n"
     ]
    }
   ],
   "source": [
    "# Fit OneHotEncoder on the train set and transform it into encoded arrays\n",
    "encoded_train = nominal_encoder.fit_transform(train_set[nomial_variables])\n",
    "\n",
    "# Transform the test set using the already fitted encoder\n",
    "encoded_test = nominal_encoder.transform(test_set[nomial_variables])\n",
    "\n",
    "# Create DataFrames from the encoded train and test arrays with appropriate column names\n",
    "train_df_encoded = pd.DataFrame(encoded_train, columns=nominal_encoder.get_feature_names_out(nomial_variables))\n",
    "test_df_encoded = pd.DataFrame(encoded_test, columns=nominal_encoder.get_feature_names_out(nomial_variables))\n"
   ]
  },
  {
   "cell_type": "code",
   "execution_count": 25,
   "id": "4debfab1",
   "metadata": {},
   "outputs": [],
   "source": [
    "# Drop the original nominal variables from the train and test sets and reset the index\n",
    "train_df = train_set.drop(columns=nomial_variables).reset_index(drop=True)\n",
    "test_df = test_set.drop(columns=nomial_variables).reset_index(drop=True)\n"
   ]
  },
  {
   "cell_type": "code",
   "execution_count": 26,
   "id": "9fbbf14e",
   "metadata": {},
   "outputs": [],
   "source": [
    "# Concatenate the encoded nominal variables with the remaining features in the train and test sets\n",
    "train_df = pd.concat([train_df, train_df_encoded], axis=1)\n",
    "test_df = pd.concat([test_df, test_df_encoded], axis=1)# Select all rows where 'booking_complete' is 0, representing the majority class\n",
    "majority_df = df[df[\"booking_complete\"] == 0]\n",
    "\n",
    "# Select all rows where 'booking_complete' is 1, representing the minority class\n",
    "mijority_df = df[df[\"booking_complete\"] == 1]  # Note: 'mijority_df' is a typo, should be 'minority_df'\n",
    "\n",
    "# Resample the minority class to match the number of samples in the majority class\n",
    "# This is done to balance the dataset by oversampling the minority class\n",
    "resample_df = resample(mijority_df, n_samples=len(majority_df), random_state=42)\n",
    "\n",
    "# Concatenate the resampled minority class with the majority class to create a balanced dataset\n",
    "new_df = pd.concat([resample_df, majority_df], axis=0, ignore_index=True)\n"
   ]
  },
  {
   "cell_type": "code",
   "execution_count": 27,
   "id": "9d2b2e5d",
   "metadata": {},
   "outputs": [],
   "source": [
    "# Copy the train and test sets to prepare features (X) and target labels (y)\n",
    "X = train_df.copy()\n",
    "y = X.pop(\"booking_complete\")  # Target variable 'booking_complete' removed from features\n",
    "\n",
    "X_test = test_df.copy()\n",
    "y_test = X_test.pop(\"booking_complete\")  # Target variable removed from test features\n"
   ]
  },
  {
   "cell_type": "code",
   "execution_count": 28,
   "id": "08247766",
   "metadata": {},
   "outputs": [
    {
     "name": "stdout",
     "output_type": "stream",
     "text": [
      "              precision    recall  f1-score   support\n",
      "\n",
      "           0       0.99      0.92      0.96      8496\n",
      "           1       0.93      0.99      0.96      8513\n",
      "\n",
      "    accuracy                           0.96     17009\n",
      "   macro avg       0.96      0.96      0.96     17009\n",
      "weighted avg       0.96      0.96      0.96     17009\n",
      "\n"
     ]
    }
   ],
   "source": [
    "# Initialize and train a Random Forest Classifier with balanced class weights and random state for reproducibility\n",
    "rf_model = RandomForestClassifier(random_state=42, class_weight=\"balanced\")\n",
    "rf_model.fit(X, y)  # Fit the model on the training data\n",
    "\n",
    "# Predict the target variable for the test set\n",
    "y_pred = rf_model.predict(X_test)\n",
    "\n",
    "# Print evaluation metrics for the model predictions, including precision, recall, F1-score\n",
    "print(classification_report(y_test, y_pred))\n"
   ]
  },
  {
   "cell_type": "code",
   "execution_count": null,
   "id": "4778719a",
   "metadata": {},
   "outputs": [],
   "source": []
  },
  {
   "cell_type": "code",
   "execution_count": null,
   "id": "21fe3d75",
   "metadata": {},
   "outputs": [],
   "source": []
  },
  {
   "cell_type": "code",
   "execution_count": null,
   "id": "f9c40919",
   "metadata": {},
   "outputs": [],
   "source": []
  }
 ],
 "metadata": {
  "kernelspec": {
   "display_name": "Python 3 (ipykernel)",
   "language": "python",
   "name": "python3"
  },
  "language_info": {
   "codemirror_mode": {
    "name": "ipython",
    "version": 3
   },
   "file_extension": ".py",
   "mimetype": "text/x-python",
   "name": "python",
   "nbconvert_exporter": "python",
   "pygments_lexer": "ipython3",
   "version": "3.9.13"
  }
 },
 "nbformat": 4,
 "nbformat_minor": 5
}
