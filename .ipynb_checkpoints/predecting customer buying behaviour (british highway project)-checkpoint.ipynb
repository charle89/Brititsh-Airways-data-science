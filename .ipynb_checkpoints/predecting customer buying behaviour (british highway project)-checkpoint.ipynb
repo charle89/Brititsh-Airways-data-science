{
 "cells": [
  {
   "cell_type": "code",
   "execution_count": 1,
   "id": "6f14a2f4",
   "metadata": {},
   "outputs": [
    {
     "name": "stderr",
     "output_type": "stream",
     "text": [
      "C:\\Users\\Admin\\anaconda3\\lib\\site-packages\\scipy\\__init__.py:155: UserWarning: A NumPy version >=1.18.5 and <1.25.0 is required for this version of SciPy (detected version 1.26.4\n",
      "  warnings.warn(f\"A NumPy version >={np_minversion} and <{np_maxversion}\"\n"
     ]
    }
   ],
   "source": [
    "# Importing necessary libraries\n",
    "import pandas as pd\n",
    "import numpy as np\n",
    "from sklearn.model_selection import train_test_split, cross_val_score\n",
    "from sklearn.ensemble import RandomForestClassifier\n",
    "from sklearn.metrics import accuracy_score, precision_score, recall_score, f1_score, confusion_matrix, classification_report\n",
    "import matplotlib.pyplot as plt\n",
    "import seaborn as sns\n",
    "from sklearn.preprocessing import OneHotEncoder, OrdinalEncoder\n",
    "from sklearn.feature_selection import RFE\n",
    "from sklearn.svm import SVC\n",
    "from sklearn.decomposition import PCA\n",
    "from sklearn.utils import resample"
   ]
  },
  {
   "cell_type": "code",
   "execution_count": 2,
   "id": "b16e034f",
   "metadata": {},
   "outputs": [
    {
     "ename": "FileNotFoundError",
     "evalue": "[Errno 2] No such file or directory: 'customer_booking.csv'",
     "output_type": "error",
     "traceback": [
      "\u001b[1;31m---------------------------------------------------------------------------\u001b[0m",
      "\u001b[1;31mFileNotFoundError\u001b[0m                         Traceback (most recent call last)",
      "\u001b[1;32m~\\AppData\\Local\\Temp\\ipykernel_11504\\1541229549.py\u001b[0m in \u001b[0;36m<module>\u001b[1;34m\u001b[0m\n\u001b[1;32m----> 1\u001b[1;33m \u001b[0mdf\u001b[0m \u001b[1;33m=\u001b[0m \u001b[0mpd\u001b[0m\u001b[1;33m.\u001b[0m\u001b[0mread_csv\u001b[0m\u001b[1;33m(\u001b[0m \u001b[1;34m\"customer_booking.csv\"\u001b[0m\u001b[1;33m,\u001b[0m \u001b[0mencoding\u001b[0m\u001b[1;33m=\u001b[0m\u001b[1;34m'ISO-8859-1'\u001b[0m\u001b[1;33m)\u001b[0m\u001b[1;33m\u001b[0m\u001b[1;33m\u001b[0m\u001b[0m\n\u001b[0m\u001b[0;32m      2\u001b[0m \u001b[0mdf\u001b[0m\u001b[1;33m.\u001b[0m\u001b[0mhead\u001b[0m\u001b[1;33m(\u001b[0m\u001b[1;33m)\u001b[0m\u001b[1;33m\u001b[0m\u001b[1;33m\u001b[0m\u001b[0m\n",
      "\u001b[1;32m~\\anaconda3\\lib\\site-packages\\pandas\\util\\_decorators.py\u001b[0m in \u001b[0;36mwrapper\u001b[1;34m(*args, **kwargs)\u001b[0m\n\u001b[0;32m    309\u001b[0m                     \u001b[0mstacklevel\u001b[0m\u001b[1;33m=\u001b[0m\u001b[0mstacklevel\u001b[0m\u001b[1;33m,\u001b[0m\u001b[1;33m\u001b[0m\u001b[1;33m\u001b[0m\u001b[0m\n\u001b[0;32m    310\u001b[0m                 )\n\u001b[1;32m--> 311\u001b[1;33m             \u001b[1;32mreturn\u001b[0m \u001b[0mfunc\u001b[0m\u001b[1;33m(\u001b[0m\u001b[1;33m*\u001b[0m\u001b[0margs\u001b[0m\u001b[1;33m,\u001b[0m \u001b[1;33m**\u001b[0m\u001b[0mkwargs\u001b[0m\u001b[1;33m)\u001b[0m\u001b[1;33m\u001b[0m\u001b[1;33m\u001b[0m\u001b[0m\n\u001b[0m\u001b[0;32m    312\u001b[0m \u001b[1;33m\u001b[0m\u001b[0m\n\u001b[0;32m    313\u001b[0m         \u001b[1;32mreturn\u001b[0m \u001b[0mwrapper\u001b[0m\u001b[1;33m\u001b[0m\u001b[1;33m\u001b[0m\u001b[0m\n",
      "\u001b[1;32m~\\anaconda3\\lib\\site-packages\\pandas\\io\\parsers\\readers.py\u001b[0m in \u001b[0;36mread_csv\u001b[1;34m(filepath_or_buffer, sep, delimiter, header, names, index_col, usecols, squeeze, prefix, mangle_dupe_cols, dtype, engine, converters, true_values, false_values, skipinitialspace, skiprows, skipfooter, nrows, na_values, keep_default_na, na_filter, verbose, skip_blank_lines, parse_dates, infer_datetime_format, keep_date_col, date_parser, dayfirst, cache_dates, iterator, chunksize, compression, thousands, decimal, lineterminator, quotechar, quoting, doublequote, escapechar, comment, encoding, encoding_errors, dialect, error_bad_lines, warn_bad_lines, on_bad_lines, delim_whitespace, low_memory, memory_map, float_precision, storage_options)\u001b[0m\n\u001b[0;32m    676\u001b[0m     \u001b[0mkwds\u001b[0m\u001b[1;33m.\u001b[0m\u001b[0mupdate\u001b[0m\u001b[1;33m(\u001b[0m\u001b[0mkwds_defaults\u001b[0m\u001b[1;33m)\u001b[0m\u001b[1;33m\u001b[0m\u001b[1;33m\u001b[0m\u001b[0m\n\u001b[0;32m    677\u001b[0m \u001b[1;33m\u001b[0m\u001b[0m\n\u001b[1;32m--> 678\u001b[1;33m     \u001b[1;32mreturn\u001b[0m \u001b[0m_read\u001b[0m\u001b[1;33m(\u001b[0m\u001b[0mfilepath_or_buffer\u001b[0m\u001b[1;33m,\u001b[0m \u001b[0mkwds\u001b[0m\u001b[1;33m)\u001b[0m\u001b[1;33m\u001b[0m\u001b[1;33m\u001b[0m\u001b[0m\n\u001b[0m\u001b[0;32m    679\u001b[0m \u001b[1;33m\u001b[0m\u001b[0m\n\u001b[0;32m    680\u001b[0m \u001b[1;33m\u001b[0m\u001b[0m\n",
      "\u001b[1;32m~\\anaconda3\\lib\\site-packages\\pandas\\io\\parsers\\readers.py\u001b[0m in \u001b[0;36m_read\u001b[1;34m(filepath_or_buffer, kwds)\u001b[0m\n\u001b[0;32m    573\u001b[0m \u001b[1;33m\u001b[0m\u001b[0m\n\u001b[0;32m    574\u001b[0m     \u001b[1;31m# Create the parser.\u001b[0m\u001b[1;33m\u001b[0m\u001b[1;33m\u001b[0m\u001b[0m\n\u001b[1;32m--> 575\u001b[1;33m     \u001b[0mparser\u001b[0m \u001b[1;33m=\u001b[0m \u001b[0mTextFileReader\u001b[0m\u001b[1;33m(\u001b[0m\u001b[0mfilepath_or_buffer\u001b[0m\u001b[1;33m,\u001b[0m \u001b[1;33m**\u001b[0m\u001b[0mkwds\u001b[0m\u001b[1;33m)\u001b[0m\u001b[1;33m\u001b[0m\u001b[1;33m\u001b[0m\u001b[0m\n\u001b[0m\u001b[0;32m    576\u001b[0m \u001b[1;33m\u001b[0m\u001b[0m\n\u001b[0;32m    577\u001b[0m     \u001b[1;32mif\u001b[0m \u001b[0mchunksize\u001b[0m \u001b[1;32mor\u001b[0m \u001b[0miterator\u001b[0m\u001b[1;33m:\u001b[0m\u001b[1;33m\u001b[0m\u001b[1;33m\u001b[0m\u001b[0m\n",
      "\u001b[1;32m~\\anaconda3\\lib\\site-packages\\pandas\\io\\parsers\\readers.py\u001b[0m in \u001b[0;36m__init__\u001b[1;34m(self, f, engine, **kwds)\u001b[0m\n\u001b[0;32m    930\u001b[0m \u001b[1;33m\u001b[0m\u001b[0m\n\u001b[0;32m    931\u001b[0m         \u001b[0mself\u001b[0m\u001b[1;33m.\u001b[0m\u001b[0mhandles\u001b[0m\u001b[1;33m:\u001b[0m \u001b[0mIOHandles\u001b[0m \u001b[1;33m|\u001b[0m \u001b[1;32mNone\u001b[0m \u001b[1;33m=\u001b[0m \u001b[1;32mNone\u001b[0m\u001b[1;33m\u001b[0m\u001b[1;33m\u001b[0m\u001b[0m\n\u001b[1;32m--> 932\u001b[1;33m         \u001b[0mself\u001b[0m\u001b[1;33m.\u001b[0m\u001b[0m_engine\u001b[0m \u001b[1;33m=\u001b[0m \u001b[0mself\u001b[0m\u001b[1;33m.\u001b[0m\u001b[0m_make_engine\u001b[0m\u001b[1;33m(\u001b[0m\u001b[0mf\u001b[0m\u001b[1;33m,\u001b[0m \u001b[0mself\u001b[0m\u001b[1;33m.\u001b[0m\u001b[0mengine\u001b[0m\u001b[1;33m)\u001b[0m\u001b[1;33m\u001b[0m\u001b[1;33m\u001b[0m\u001b[0m\n\u001b[0m\u001b[0;32m    933\u001b[0m \u001b[1;33m\u001b[0m\u001b[0m\n\u001b[0;32m    934\u001b[0m     \u001b[1;32mdef\u001b[0m \u001b[0mclose\u001b[0m\u001b[1;33m(\u001b[0m\u001b[0mself\u001b[0m\u001b[1;33m)\u001b[0m\u001b[1;33m:\u001b[0m\u001b[1;33m\u001b[0m\u001b[1;33m\u001b[0m\u001b[0m\n",
      "\u001b[1;32m~\\anaconda3\\lib\\site-packages\\pandas\\io\\parsers\\readers.py\u001b[0m in \u001b[0;36m_make_engine\u001b[1;34m(self, f, engine)\u001b[0m\n\u001b[0;32m   1214\u001b[0m             \u001b[1;31m# \"Union[str, PathLike[str], ReadCsvBuffer[bytes], ReadCsvBuffer[str]]\"\u001b[0m\u001b[1;33m\u001b[0m\u001b[1;33m\u001b[0m\u001b[0m\n\u001b[0;32m   1215\u001b[0m             \u001b[1;31m# , \"str\", \"bool\", \"Any\", \"Any\", \"Any\", \"Any\", \"Any\"\u001b[0m\u001b[1;33m\u001b[0m\u001b[1;33m\u001b[0m\u001b[0m\n\u001b[1;32m-> 1216\u001b[1;33m             self.handles = get_handle(  # type: ignore[call-overload]\n\u001b[0m\u001b[0;32m   1217\u001b[0m                 \u001b[0mf\u001b[0m\u001b[1;33m,\u001b[0m\u001b[1;33m\u001b[0m\u001b[1;33m\u001b[0m\u001b[0m\n\u001b[0;32m   1218\u001b[0m                 \u001b[0mmode\u001b[0m\u001b[1;33m,\u001b[0m\u001b[1;33m\u001b[0m\u001b[1;33m\u001b[0m\u001b[0m\n",
      "\u001b[1;32m~\\anaconda3\\lib\\site-packages\\pandas\\io\\common.py\u001b[0m in \u001b[0;36mget_handle\u001b[1;34m(path_or_buf, mode, encoding, compression, memory_map, is_text, errors, storage_options)\u001b[0m\n\u001b[0;32m    784\u001b[0m         \u001b[1;32mif\u001b[0m \u001b[0mioargs\u001b[0m\u001b[1;33m.\u001b[0m\u001b[0mencoding\u001b[0m \u001b[1;32mand\u001b[0m \u001b[1;34m\"b\"\u001b[0m \u001b[1;32mnot\u001b[0m \u001b[1;32min\u001b[0m \u001b[0mioargs\u001b[0m\u001b[1;33m.\u001b[0m\u001b[0mmode\u001b[0m\u001b[1;33m:\u001b[0m\u001b[1;33m\u001b[0m\u001b[1;33m\u001b[0m\u001b[0m\n\u001b[0;32m    785\u001b[0m             \u001b[1;31m# Encoding\u001b[0m\u001b[1;33m\u001b[0m\u001b[1;33m\u001b[0m\u001b[0m\n\u001b[1;32m--> 786\u001b[1;33m             handle = open(\n\u001b[0m\u001b[0;32m    787\u001b[0m                 \u001b[0mhandle\u001b[0m\u001b[1;33m,\u001b[0m\u001b[1;33m\u001b[0m\u001b[1;33m\u001b[0m\u001b[0m\n\u001b[0;32m    788\u001b[0m                 \u001b[0mioargs\u001b[0m\u001b[1;33m.\u001b[0m\u001b[0mmode\u001b[0m\u001b[1;33m,\u001b[0m\u001b[1;33m\u001b[0m\u001b[1;33m\u001b[0m\u001b[0m\n",
      "\u001b[1;31mFileNotFoundError\u001b[0m: [Errno 2] No such file or directory: 'customer_booking.csv'"
     ]
    }
   ],
   "source": [
    "df = pd.read_csv( \"customer_booking.csv\", encoding='ISO-8859-1')\n",
    "df.head()"
   ]
  },
  {
   "cell_type": "code",
   "execution_count": null,
   "id": "0dca1922",
   "metadata": {},
   "outputs": [],
   "source": [
    "df.shape"
   ]
  },
  {
   "cell_type": "code",
   "execution_count": null,
   "id": "5acb6297",
   "metadata": {},
   "outputs": [],
   "source": []
  },
  {
   "cell_type": "code",
   "execution_count": null,
   "id": "d5cce871",
   "metadata": {},
   "outputs": [],
   "source": [
    "# Splitting the dataset into training and testing sets\n",
    "train_set, test_set = train_test_split(df, test_size=0.2, random_state=42)"
   ]
  },
  {
   "cell_type": "code",
   "execution_count": null,
   "id": "55c0f3f7",
   "metadata": {},
   "outputs": [],
   "source": [
    "nomial_variables=train_set.select_dtypes(object)\n",
    "ordinal_variables = [nomial_variables.pop(\"flight_day\").name]\n",
    "nomial_variables = nomial_variables.columns"
   ]
  },
  {
   "cell_type": "code",
   "execution_count": null,
   "id": "01bcfecc",
   "metadata": {},
   "outputs": [],
   "source": [
    "day_order= [\"Sun\", \"Mon\", \"Tue\", \"Wed\", \"Thu\", \"Fri\", \"Sat\"]"
   ]
  },
  {
   "cell_type": "code",
   "execution_count": null,
   "id": "402251e2",
   "metadata": {},
   "outputs": [],
   "source": [
    "ordinal_encoder = OrdinalEncoder(categories=[day_order])\n",
    "train_set[ordinal_variables]= ordinal_encoder.fit_transform(train_set[ordinal_variables])\n",
    "test_set[ordinal_variables]= ordinal_encoder.transform(test_set[ordinal_variables])"
   ]
  },
  {
   "cell_type": "code",
   "execution_count": null,
   "id": "a237fd6f",
   "metadata": {},
   "outputs": [],
   "source": []
  },
  {
   "cell_type": "code",
   "execution_count": null,
   "id": "7582aaf0",
   "metadata": {},
   "outputs": [],
   "source": [
    "nominal_encoder = OneHotEncoder(handle_unknown=\"ignore\", drop=\"first\", sparse=False)\n",
    "encoded_train = nominal_encoder.fit_transform(train_set[nomial_variables])\n",
    "encoded_test = nominal_encoder.transform(test_set[nomial_variables])"
   ]
  },
  {
   "cell_type": "code",
   "execution_count": null,
   "id": "5722fd33",
   "metadata": {},
   "outputs": [],
   "source": [
    "train_df_encoded=pd.DataFrame(encoded_train, columns= nominal_encoder.get_feature_names_out(nomial_variables))\n",
    "test_df_encoded=pd.DataFrame(encoded_test, columns= nominal_encoder.get_feature_names_out(nomial_variables))"
   ]
  },
  {
   "cell_type": "code",
   "execution_count": null,
   "id": "cb9406f4",
   "metadata": {},
   "outputs": [],
   "source": [
    "train_df=train_set.drop(columns=nomial_variables).reset_index(drop=True)\n",
    "test_df=test_set.drop(columns=nomial_variables).reset_index(drop=True)"
   ]
  },
  {
   "cell_type": "code",
   "execution_count": null,
   "id": "d166825e",
   "metadata": {},
   "outputs": [],
   "source": [
    "train_df = pd.concat([train_df, train_df_encoded ], axis=1)\n",
    "test_df = pd.concat([test_df, test_df_encoded ], axis=1)"
   ]
  },
  {
   "cell_type": "code",
   "execution_count": null,
   "id": "9650f5b3",
   "metadata": {},
   "outputs": [],
   "source": [
    "train_df.shape"
   ]
  },
  {
   "cell_type": "code",
   "execution_count": null,
   "id": "82f7926f",
   "metadata": {},
   "outputs": [],
   "source": [
    "test_df.shape"
   ]
  },
  {
   "cell_type": "code",
   "execution_count": null,
   "id": "b3193e1f",
   "metadata": {},
   "outputs": [],
   "source": []
  },
  {
   "cell_type": "markdown",
   "id": "89a0befd",
   "metadata": {},
   "source": [
    "# Baseline Model"
   ]
  },
  {
   "cell_type": "code",
   "execution_count": null,
   "id": "7791a3e7",
   "metadata": {},
   "outputs": [],
   "source": [
    "X = train_df.copy()\n",
    "y = X.pop(\"booking_complete\")"
   ]
  },
  {
   "cell_type": "code",
   "execution_count": null,
   "id": "f32926d4",
   "metadata": {},
   "outputs": [],
   "source": [
    "X_test = test_df.copy()\n",
    "y_test = X_test.pop(\"booking_complete\")"
   ]
  },
  {
   "cell_type": "code",
   "execution_count": null,
   "id": "44917009",
   "metadata": {},
   "outputs": [],
   "source": [
    "# Model Training - Random Forest\n",
    "rf_model = RandomForestClassifier(random_state=42, class_weight=\"balanced\")\n",
    "rf_model.fit(X, y)\n",
    "\n",
    "# Model Predictions\n",
    "y_pred = rf_model.predict(X_test)\n",
    "\n",
    "# # Evaluation Metrics\n",
    "print(classification_report(y_test, y_pred))"
   ]
  },
  {
   "cell_type": "code",
   "execution_count": null,
   "id": "38a7480b",
   "metadata": {},
   "outputs": [],
   "source": []
  },
  {
   "cell_type": "code",
   "execution_count": null,
   "id": "91a948d5",
   "metadata": {},
   "outputs": [],
   "source": []
  },
  {
   "cell_type": "code",
   "execution_count": null,
   "id": "5006c103",
   "metadata": {},
   "outputs": [],
   "source": []
  },
  {
   "cell_type": "markdown",
   "id": "3b850705",
   "metadata": {},
   "source": [
    "# Modeling with oversample dataset"
   ]
  },
  {
   "cell_type": "code",
   "execution_count": null,
   "id": "c3909059",
   "metadata": {},
   "outputs": [],
   "source": []
  },
  {
   "cell_type": "code",
   "execution_count": null,
   "id": "c190bd39",
   "metadata": {},
   "outputs": [],
   "source": [
    "# Select all rows where 'booking_complete' is 0, representing the majority class\n",
    "majority_df = df[df[\"booking_complete\"] == 0]\n",
    "\n",
    "# Select all rows where 'booking_complete' is 1, representing the minority class\n",
    "mijority_df = df[df[\"booking_complete\"] == 1]  # Note: 'mijority_df' is a typo, should be 'minority_df'\n",
    "\n",
    "# Resample the minority class to match the number of samples in the majority class\n",
    "# This is done to balance the dataset by oversampling the minority class\n",
    "resample_df = resample(mijority_df, n_samples=len(majority_df), random_state=42)\n",
    "\n",
    "# Concatenate the resampled minority class with the majority class to create a balanced dataset\n",
    "new_df = pd.concat([resample_df, majority_df], axis=0, ignore_index=True)\n"
   ]
  },
  {
   "cell_type": "code",
   "execution_count": null,
   "id": "ec644baf",
   "metadata": {},
   "outputs": [],
   "source": [
    "# Splitting the dataset into training and testing sets\n",
    "train_set, test_set = train_test_split(new_df, test_size=0.2, random_state=42)\n"
   ]
  },
  {
   "cell_type": "code",
   "execution_count": null,
   "id": "1f92ae7e",
   "metadata": {},
   "outputs": [],
   "source": [
    "# Select all nominal (categorical) variables from the train set\n",
    "nomial_variables = train_set.select_dtypes(object)\n",
    "\n",
    "# Pop (remove) the 'flight_day' column from nominal variables, \n",
    "# as it is considered an ordinal variable, and store its name in 'ordinal_variables'\n",
    "ordinal_variables = [nomial_variables.pop(\"flight_day\").name]\n"
   ]
  },
  {
   "cell_type": "code",
   "execution_count": null,
   "id": "b0e723ee",
   "metadata": {},
   "outputs": [],
   "source": [
    "# Store the remaining nominal variable names for later use\n",
    "nomial_variables = nomial_variables.columns\n",
    "\n",
    "# Define the order for ordinal encoding of the days of the week\n",
    "day_order = [\"Sun\", \"Mon\", \"Tue\", \"Wed\", \"Thu\", \"Fri\", \"Sat\"]\n",
    "\n",
    "# Initialize OrdinalEncoder with the specified day order for the 'flight_day' column\n",
    "ordinal_encoder = OrdinalEncoder(categories=[day_order])\n"
   ]
  },
  {
   "cell_type": "code",
   "execution_count": null,
   "id": "991af588",
   "metadata": {},
   "outputs": [],
   "source": [
    "# Apply ordinal encoding on 'flight_day' in the train set\n",
    "train_set[ordinal_variables] = ordinal_encoder.fit_transform(train_set[ordinal_variables])\n",
    "\n",
    "# Apply the same transformation on the test set\n",
    "test_set[ordinal_variables] = ordinal_encoder.transform(test_set[ordinal_variables])\n",
    "\n",
    "# Initialize OneHotEncoder to encode nominal variables, ignoring unknown categories in test data\n",
    "# 'drop=\"first\"' avoids dummy variable trap, 'sparse=False' returns dense array\n",
    "nominal_encoder = OneHotEncoder(handle_unknown=\"ignore\", drop=\"first\", sparse=False)\n"
   ]
  },
  {
   "cell_type": "code",
   "execution_count": null,
   "id": "b6a568eb",
   "metadata": {},
   "outputs": [],
   "source": [
    "# Fit OneHotEncoder on the train set and transform it into encoded arrays\n",
    "encoded_train = nominal_encoder.fit_transform(train_set[nomial_variables])\n",
    "\n",
    "# Transform the test set using the already fitted encoder\n",
    "encoded_test = nominal_encoder.transform(test_set[nomial_variables])\n",
    "\n",
    "# Create DataFrames from the encoded train and test arrays with appropriate column names\n",
    "train_df_encoded = pd.DataFrame(encoded_train, columns=nominal_encoder.get_feature_names_out(nomial_variables))\n",
    "test_df_encoded = pd.DataFrame(encoded_test, columns=nominal_encoder.get_feature_names_out(nomial_variables))\n"
   ]
  },
  {
   "cell_type": "code",
   "execution_count": null,
   "id": "4debfab1",
   "metadata": {},
   "outputs": [],
   "source": [
    "# Drop the original nominal variables from the train and test sets and reset the index\n",
    "train_df = train_set.drop(columns=nomial_variables).reset_index(drop=True)\n",
    "test_df = test_set.drop(columns=nomial_variables).reset_index(drop=True)\n"
   ]
  },
  {
   "cell_type": "code",
   "execution_count": null,
   "id": "9fbbf14e",
   "metadata": {},
   "outputs": [],
   "source": [
    "# Concatenate the encoded nominal variables with the remaining features in the train and test sets\n",
    "train_df = pd.concat([train_df, train_df_encoded], axis=1)\n",
    "test_df = pd.concat([test_df, test_df_encoded], axis=1)# Select all rows where 'booking_complete' is 0, representing the majority class\n",
    "majority_df = df[df[\"booking_complete\"] == 0]\n",
    "\n",
    "# Select all rows where 'booking_complete' is 1, representing the minority class\n",
    "mijority_df = df[df[\"booking_complete\"] == 1]  # Note: 'mijority_df' is a typo, should be 'minority_df'\n",
    "\n",
    "# Resample the minority class to match the number of samples in the majority class\n",
    "# This is done to balance the dataset by oversampling the minority class\n",
    "resample_df = resample(mijority_df, n_samples=len(majority_df), random_state=42)\n",
    "\n",
    "# Concatenate the resampled minority class with the majority class to create a balanced dataset\n",
    "new_df = pd.concat([resample_df, majority_df], axis=0, ignore_index=True)\n"
   ]
  },
  {
   "cell_type": "code",
   "execution_count": null,
   "id": "9d2b2e5d",
   "metadata": {},
   "outputs": [],
   "source": [
    "# Copy the train and test sets to prepare features (X) and target labels (y)\n",
    "X = train_df.copy()\n",
    "y = X.pop(\"booking_complete\")  # Target variable 'booking_complete' removed from features\n",
    "\n",
    "X_test = test_df.copy()\n",
    "y_test = X_test.pop(\"booking_complete\")  # Target variable removed from test features\n"
   ]
  },
  {
   "cell_type": "code",
   "execution_count": null,
   "id": "08247766",
   "metadata": {},
   "outputs": [],
   "source": [
    "# Initialize and train a Random Forest Classifier with balanced class weights and random state for reproducibility\n",
    "rf_model = RandomForestClassifier(random_state=42, class_weight=\"balanced\")\n",
    "rf_model.fit(X, y)  # Fit the model on the training data\n",
    "\n",
    "# Predict the target variable for the test set\n",
    "y_pred = rf_model.predict(X_test)\n",
    "\n",
    "# Print evaluation metrics for the model predictions, including precision, recall, F1-score\n",
    "print(classification_report(y_test, y_pred))\n"
   ]
  },
  {
   "cell_type": "code",
   "execution_count": null,
   "id": "4778719a",
   "metadata": {},
   "outputs": [],
   "source": []
  },
  {
   "cell_type": "code",
   "execution_count": null,
   "id": "48447ad8",
   "metadata": {},
   "outputs": [],
   "source": []
  },
  {
   "cell_type": "code",
   "execution_count": null,
   "id": "c88b5161",
   "metadata": {},
   "outputs": [],
   "source": []
  }
 ],
 "metadata": {
  "kernelspec": {
   "display_name": "Python 3 (ipykernel)",
   "language": "python",
   "name": "python3"
  },
  "language_info": {
   "codemirror_mode": {
    "name": "ipython",
    "version": 3
   },
   "file_extension": ".py",
   "mimetype": "text/x-python",
   "name": "python",
   "nbconvert_exporter": "python",
   "pygments_lexer": "ipython3",
   "version": "3.9.13"
  }
 },
 "nbformat": 4,
 "nbformat_minor": 5
}
